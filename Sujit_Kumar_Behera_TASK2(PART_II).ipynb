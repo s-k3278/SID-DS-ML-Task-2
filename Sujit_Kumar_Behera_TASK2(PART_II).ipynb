{
  "nbformat": 4,
  "nbformat_minor": 0,
  "metadata": {
    "colab": {
      "name": "Sujit_Kumar_Behera_TASK2(PART II).ipynb",
      "provenance": [],
      "collapsed_sections": []
    },
    "kernelspec": {
      "name": "python3",
      "display_name": "Python 3"
    },
    "language_info": {
      "name": "python"
    }
  },
  "cells": [
    {
      "cell_type": "markdown",
      "metadata": {
        "id": "hK6jomUE-rpH"
      },
      "source": [
        "# <center>**TASK2 (PART-ll)**"
      ]
    },
    {
      "cell_type": "markdown",
      "metadata": {
        "id": "SdQ2oLe0Rw6C"
      },
      "source": [
        "# <center>**EXPLORATORY DATA ANALYSIS**</center>"
      ]
    },
    {
      "cell_type": "markdown",
      "metadata": {
        "id": "YUJLERl4_0Qv"
      },
      "source": [
        "### <center>**EDA is one of the crucial step in data science that allows us to achieve certain insights and statistical measure that is essential for the business continuity, stockholders and data scientists.**\n",
        "\n",
        "![EDA.jfif](data:image/jpeg;base64,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) </center>"
      ]
    },
    {
      "cell_type": "markdown",
      "metadata": {
        "id": "jEQogWyICczQ"
      },
      "source": [
        "### **Steps involved in EDA**\n",
        "\n",
        "###The steps mentioned below are helpful in performing EDA.You are suggested to do it if applicable in the dataset.\n",
        "\n",
        "- Check the shape of the data frame.\n",
        "- Check for null values.\n",
        "- Convert the variables into appropriate data types if there is a mismatch.\n",
        "- Check for the frequency of different classes in case of a categorical variable.\n",
        "- Check for distribution of continuous variables\n",
        "\n",
        "###Below is a checklist to guide you while performing EDA.\n",
        "\n",
        "- What kind of data do you have?\n",
        "- What’s missing from the data?\n",
        "- Where are the outliers?\n",
        "- How can you add, change or remove features to get more out of your data?\n",
        "  - Feature Selection\n",
        "  - Handling missing values\n",
        "  - Handling skewed data\n",
        "  - Handling outliers\n",
        "  - Encoding\n",
        "  - Feature Scaling\n",
        "\n",
        "Finally we have the most important question, \n",
        "\"What question are you trying to solve ?\"  \n",
        "You need to think about questions you can ask of a dataset.  \n",
        "Questions can be simple as \"What is the number of survivors?\" or \n",
        "\"Which gender had a better chance of survival?\"  \n",
        "You goal is to formulate your questions and making inferences.\n",
        "\n",
        "\n",
        "### **Resources**\n",
        "Watching:\n",
        "\n",
        "- [EDA using Python](https://www.youtube.com/watch?v=-o3AxdVcUtQ)\n",
        "- [Feature Selection-How To Drop Features Using Pearson Correlation](https://www.youtube.com/watch?v=FndwYNcVe0U&list=PLZoTAELRMXVPgjwJ8VyRoqmfNs2CJwhVH&index=2)\n",
        "\n",
        "\n",
        "Reading:\n",
        "\n",
        "- [How to Handle Missing Data with Python](https://machinelearningmastery.com/handle-missing-data-python/)\n",
        "- [Handling Skewness in Machine Learning](https://beingdatum.com/handling-skewness-in-machine-learning/)\n",
        "- [Transforming Skewed Data for Machine Learning](https://opendatascience.com/transforming-skewed-data-for-machine-learning/)\n",
        "- [5 Ways to Detect Outliers/Anomalies That Every Data Scientist Should Know](https://towardsdatascience.com/5-ways-to-detect-outliers-that-every-data-scientist-should-know-python-code-70a54335a623)\n",
        "- [Box Plot Diagram to Identify Outliers](https://www.whatissixsigma.net/box-plot-diagram-to-identify-outliers/)\n",
        "- [Convert a categorical variable to a number for Machine Learning Model Building](https://towardsdatascience.com/all-about-categorical-variable-encoding-305f3361fd02)\n"
      ]
    },
    {
      "cell_type": "code",
      "metadata": {
        "id": "-ruv7wZhDagl",
        "colab": {
          "base_uri": "https://localhost:8080/",
          "height": 354
        },
        "outputId": "ca2986aa-5400-4471-f27f-1c0dc8268b85"
      },
      "source": [
        "# run this cell before proceeding further\n",
        "!wget https://raw.githubusercontent.com/Spectrum-CETB/Data-Science-AI/mai\n",
        "n/Datasets/titanic.csv"
      ],
      "execution_count": null,
      "outputs": [
        {
          "output_type": "stream",
          "text": [
            "--2021-07-11 16:17:41--  https://raw.githubusercontent.com/Spectrum-CETB/Data-Science-AI/mai\n",
            "Resolving raw.githubusercontent.com (raw.githubusercontent.com)... 185.199.108.133, 185.199.109.133, 185.199.110.133, ...\n",
            "Connecting to raw.githubusercontent.com (raw.githubusercontent.com)|185.199.108.133|:443... connected.\n",
            "HTTP request sent, awaiting response... 400 Bad Request\n",
            "2021-07-11 16:17:42 ERROR 400: Bad Request.\n",
            "\n"
          ],
          "name": "stdout"
        },
        {
          "output_type": "error",
          "ename": "NameError",
          "evalue": "ignored",
          "traceback": [
            "\u001b[0;31m---------------------------------------------------------------------------\u001b[0m",
            "\u001b[0;31mNameError\u001b[0m                                 Traceback (most recent call last)",
            "\u001b[0;32m<ipython-input-5-4eda1253e721>\u001b[0m in \u001b[0;36m<module>\u001b[0;34m()\u001b[0m\n\u001b[1;32m      1\u001b[0m \u001b[0;31m# run this cell before proceeding further\u001b[0m\u001b[0;34m\u001b[0m\u001b[0;34m\u001b[0m\u001b[0;34m\u001b[0m\u001b[0m\n\u001b[1;32m      2\u001b[0m \u001b[0mget_ipython\u001b[0m\u001b[0;34m(\u001b[0m\u001b[0;34m)\u001b[0m\u001b[0;34m.\u001b[0m\u001b[0msystem\u001b[0m\u001b[0;34m(\u001b[0m\u001b[0;34m'wget https://raw.githubusercontent.com/Spectrum-CETB/Data-Science-AI/mai'\u001b[0m\u001b[0;34m)\u001b[0m\u001b[0;34m\u001b[0m\u001b[0;34m\u001b[0m\u001b[0m\n\u001b[0;32m----> 3\u001b[0;31m \u001b[0mn\u001b[0m\u001b[0;34m/\u001b[0m\u001b[0mDatasets\u001b[0m\u001b[0;34m/\u001b[0m\u001b[0mtitanic\u001b[0m\u001b[0;34m.\u001b[0m\u001b[0mcsv\u001b[0m\u001b[0;34m\u001b[0m\u001b[0;34m\u001b[0m\u001b[0m\n\u001b[0m",
            "\u001b[0;31mNameError\u001b[0m: name 'n' is not defined"
          ]
        }
      ]
    },
    {
      "cell_type": "markdown",
      "metadata": {
        "id": "Nv3uwkinDa5B"
      },
      "source": [
        "*Make sure to run the above cell before loading the data*\n",
        "\n",
        "Use the 'titanic.csv' dataset for the questions in this section."
      ]
    },
    {
      "cell_type": "markdown",
      "metadata": {
        "id": "kobL5x94CfyS"
      },
      "source": [
        "#### **Using the concepts learnt till now perform EDA on the titanic datset**.\n",
        "\n",
        "#### The goal of this analysis is to analyse the data set, explore it answering related questions using data visualization and statistical methods.\n",
        "**With Titanic dataset analysis draw minimum 5 conclusions from  and also answer the following questions .**\n",
        "\n",
        "1)What is the overall passengers survival ratio?\n",
        "\n",
        "2)Which groups have higher chances for survival?\n"
      ]
    },
    {
      "cell_type": "code",
      "metadata": {
        "id": "mOBZUtsoErCp"
      },
      "source": [
        "import numpy as np\n",
        "import pandas as pd\n",
        "import matplotlib.pyplot as plt\n",
        "import seaborn as sns"
      ],
      "execution_count": 74,
      "outputs": []
    },
    {
      "cell_type": "code",
      "metadata": {
        "id": "cAmTFHFlErAz"
      },
      "source": [
        "titanic_data = pd.read_csv(\"https://raw.githubusercontent.com/s-k3278/SID-DS-ML-Task-2/main/titanic.csv\")"
      ],
      "execution_count": 100,
      "outputs": []
    },
    {
      "cell_type": "code",
      "metadata": {
        "id": "JqD-olNXRvXK",
        "colab": {
          "base_uri": "https://localhost:8080/",
          "height": 204
        },
        "outputId": "e9c82bc6-51b0-4698-a7b1-28e018857c4d"
      },
      "source": [
        "titanic_data.head()"
      ],
      "execution_count": 101,
      "outputs": [
        {
          "output_type": "execute_result",
          "data": {
            "text/html": [
              "<div>\n",
              "<style scoped>\n",
              "    .dataframe tbody tr th:only-of-type {\n",
              "        vertical-align: middle;\n",
              "    }\n",
              "\n",
              "    .dataframe tbody tr th {\n",
              "        vertical-align: top;\n",
              "    }\n",
              "\n",
              "    .dataframe thead th {\n",
              "        text-align: right;\n",
              "    }\n",
              "</style>\n",
              "<table border=\"1\" class=\"dataframe\">\n",
              "  <thead>\n",
              "    <tr style=\"text-align: right;\">\n",
              "      <th></th>\n",
              "      <th>PassengerId</th>\n",
              "      <th>Survived</th>\n",
              "      <th>Pclass</th>\n",
              "      <th>Name</th>\n",
              "      <th>Sex</th>\n",
              "      <th>Age</th>\n",
              "      <th>SibSp</th>\n",
              "      <th>Parch</th>\n",
              "      <th>Ticket</th>\n",
              "      <th>Fare</th>\n",
              "      <th>Cabin</th>\n",
              "      <th>Embarked</th>\n",
              "    </tr>\n",
              "  </thead>\n",
              "  <tbody>\n",
              "    <tr>\n",
              "      <th>0</th>\n",
              "      <td>1</td>\n",
              "      <td>0</td>\n",
              "      <td>3</td>\n",
              "      <td>Braund, Mr. Owen Harris</td>\n",
              "      <td>male</td>\n",
              "      <td>22.0</td>\n",
              "      <td>1</td>\n",
              "      <td>0</td>\n",
              "      <td>A/5 21171</td>\n",
              "      <td>7.2500</td>\n",
              "      <td>NaN</td>\n",
              "      <td>S</td>\n",
              "    </tr>\n",
              "    <tr>\n",
              "      <th>1</th>\n",
              "      <td>2</td>\n",
              "      <td>1</td>\n",
              "      <td>1</td>\n",
              "      <td>Cumings, Mrs. John Bradley (Florence Briggs Th...</td>\n",
              "      <td>female</td>\n",
              "      <td>38.0</td>\n",
              "      <td>1</td>\n",
              "      <td>0</td>\n",
              "      <td>PC 17599</td>\n",
              "      <td>71.2833</td>\n",
              "      <td>C85</td>\n",
              "      <td>C</td>\n",
              "    </tr>\n",
              "    <tr>\n",
              "      <th>2</th>\n",
              "      <td>3</td>\n",
              "      <td>1</td>\n",
              "      <td>3</td>\n",
              "      <td>Heikkinen, Miss. Laina</td>\n",
              "      <td>female</td>\n",
              "      <td>26.0</td>\n",
              "      <td>0</td>\n",
              "      <td>0</td>\n",
              "      <td>STON/O2. 3101282</td>\n",
              "      <td>7.9250</td>\n",
              "      <td>NaN</td>\n",
              "      <td>S</td>\n",
              "    </tr>\n",
              "    <tr>\n",
              "      <th>3</th>\n",
              "      <td>4</td>\n",
              "      <td>1</td>\n",
              "      <td>1</td>\n",
              "      <td>Futrelle, Mrs. Jacques Heath (Lily May Peel)</td>\n",
              "      <td>female</td>\n",
              "      <td>35.0</td>\n",
              "      <td>1</td>\n",
              "      <td>0</td>\n",
              "      <td>113803</td>\n",
              "      <td>53.1000</td>\n",
              "      <td>C123</td>\n",
              "      <td>S</td>\n",
              "    </tr>\n",
              "    <tr>\n",
              "      <th>4</th>\n",
              "      <td>5</td>\n",
              "      <td>0</td>\n",
              "      <td>3</td>\n",
              "      <td>Allen, Mr. William Henry</td>\n",
              "      <td>male</td>\n",
              "      <td>35.0</td>\n",
              "      <td>0</td>\n",
              "      <td>0</td>\n",
              "      <td>373450</td>\n",
              "      <td>8.0500</td>\n",
              "      <td>NaN</td>\n",
              "      <td>S</td>\n",
              "    </tr>\n",
              "  </tbody>\n",
              "</table>\n",
              "</div>"
            ],
            "text/plain": [
              "   PassengerId  Survived  Pclass  ...     Fare Cabin  Embarked\n",
              "0            1         0       3  ...   7.2500   NaN         S\n",
              "1            2         1       1  ...  71.2833   C85         C\n",
              "2            3         1       3  ...   7.9250   NaN         S\n",
              "3            4         1       1  ...  53.1000  C123         S\n",
              "4            5         0       3  ...   8.0500   NaN         S\n",
              "\n",
              "[5 rows x 12 columns]"
            ]
          },
          "metadata": {
            "tags": []
          },
          "execution_count": 101
        }
      ]
    },
    {
      "cell_type": "code",
      "metadata": {
        "colab": {
          "base_uri": "https://localhost:8080/"
        },
        "id": "_0olCEqLYhpk",
        "outputId": "c111ac7a-e749-4d6e-eb51-448af3fb7980"
      },
      "source": [
        "titanic_data.shape "
      ],
      "execution_count": 102,
      "outputs": [
        {
          "output_type": "execute_result",
          "data": {
            "text/plain": [
              "(891, 12)"
            ]
          },
          "metadata": {
            "tags": []
          },
          "execution_count": 102
        }
      ]
    },
    {
      "cell_type": "code",
      "metadata": {
        "colab": {
          "base_uri": "https://localhost:8080/"
        },
        "id": "-ffd8AGxZq0Y",
        "outputId": "9f1cf7e8-f679-4af2-8eba-20da1f83a977"
      },
      "source": [
        "titanic_data.isnull().sum()"
      ],
      "execution_count": 103,
      "outputs": [
        {
          "output_type": "execute_result",
          "data": {
            "text/plain": [
              "PassengerId      0\n",
              "Survived         0\n",
              "Pclass           0\n",
              "Name             0\n",
              "Sex              0\n",
              "Age            177\n",
              "SibSp            0\n",
              "Parch            0\n",
              "Ticket           0\n",
              "Fare             0\n",
              "Cabin          687\n",
              "Embarked         2\n",
              "dtype: int64"
            ]
          },
          "metadata": {
            "tags": []
          },
          "execution_count": 103
        }
      ]
    },
    {
      "cell_type": "code",
      "metadata": {
        "colab": {
          "base_uri": "https://localhost:8080/",
          "height": 297
        },
        "id": "0eCasBpCdpzU",
        "outputId": "042c841d-7d28-473c-8c5d-cb8a19b342e9"
      },
      "source": [
        "titanic_data.describe()"
      ],
      "execution_count": 104,
      "outputs": [
        {
          "output_type": "execute_result",
          "data": {
            "text/html": [
              "<div>\n",
              "<style scoped>\n",
              "    .dataframe tbody tr th:only-of-type {\n",
              "        vertical-align: middle;\n",
              "    }\n",
              "\n",
              "    .dataframe tbody tr th {\n",
              "        vertical-align: top;\n",
              "    }\n",
              "\n",
              "    .dataframe thead th {\n",
              "        text-align: right;\n",
              "    }\n",
              "</style>\n",
              "<table border=\"1\" class=\"dataframe\">\n",
              "  <thead>\n",
              "    <tr style=\"text-align: right;\">\n",
              "      <th></th>\n",
              "      <th>PassengerId</th>\n",
              "      <th>Survived</th>\n",
              "      <th>Pclass</th>\n",
              "      <th>Age</th>\n",
              "      <th>SibSp</th>\n",
              "      <th>Parch</th>\n",
              "      <th>Fare</th>\n",
              "    </tr>\n",
              "  </thead>\n",
              "  <tbody>\n",
              "    <tr>\n",
              "      <th>count</th>\n",
              "      <td>891.000000</td>\n",
              "      <td>891.000000</td>\n",
              "      <td>891.000000</td>\n",
              "      <td>714.000000</td>\n",
              "      <td>891.000000</td>\n",
              "      <td>891.000000</td>\n",
              "      <td>891.000000</td>\n",
              "    </tr>\n",
              "    <tr>\n",
              "      <th>mean</th>\n",
              "      <td>446.000000</td>\n",
              "      <td>0.383838</td>\n",
              "      <td>2.308642</td>\n",
              "      <td>29.699118</td>\n",
              "      <td>0.523008</td>\n",
              "      <td>0.381594</td>\n",
              "      <td>32.204208</td>\n",
              "    </tr>\n",
              "    <tr>\n",
              "      <th>std</th>\n",
              "      <td>257.353842</td>\n",
              "      <td>0.486592</td>\n",
              "      <td>0.836071</td>\n",
              "      <td>14.526497</td>\n",
              "      <td>1.102743</td>\n",
              "      <td>0.806057</td>\n",
              "      <td>49.693429</td>\n",
              "    </tr>\n",
              "    <tr>\n",
              "      <th>min</th>\n",
              "      <td>1.000000</td>\n",
              "      <td>0.000000</td>\n",
              "      <td>1.000000</td>\n",
              "      <td>0.420000</td>\n",
              "      <td>0.000000</td>\n",
              "      <td>0.000000</td>\n",
              "      <td>0.000000</td>\n",
              "    </tr>\n",
              "    <tr>\n",
              "      <th>25%</th>\n",
              "      <td>223.500000</td>\n",
              "      <td>0.000000</td>\n",
              "      <td>2.000000</td>\n",
              "      <td>20.125000</td>\n",
              "      <td>0.000000</td>\n",
              "      <td>0.000000</td>\n",
              "      <td>7.910400</td>\n",
              "    </tr>\n",
              "    <tr>\n",
              "      <th>50%</th>\n",
              "      <td>446.000000</td>\n",
              "      <td>0.000000</td>\n",
              "      <td>3.000000</td>\n",
              "      <td>28.000000</td>\n",
              "      <td>0.000000</td>\n",
              "      <td>0.000000</td>\n",
              "      <td>14.454200</td>\n",
              "    </tr>\n",
              "    <tr>\n",
              "      <th>75%</th>\n",
              "      <td>668.500000</td>\n",
              "      <td>1.000000</td>\n",
              "      <td>3.000000</td>\n",
              "      <td>38.000000</td>\n",
              "      <td>1.000000</td>\n",
              "      <td>0.000000</td>\n",
              "      <td>31.000000</td>\n",
              "    </tr>\n",
              "    <tr>\n",
              "      <th>max</th>\n",
              "      <td>891.000000</td>\n",
              "      <td>1.000000</td>\n",
              "      <td>3.000000</td>\n",
              "      <td>80.000000</td>\n",
              "      <td>8.000000</td>\n",
              "      <td>6.000000</td>\n",
              "      <td>512.329200</td>\n",
              "    </tr>\n",
              "  </tbody>\n",
              "</table>\n",
              "</div>"
            ],
            "text/plain": [
              "       PassengerId    Survived      Pclass  ...       SibSp       Parch        Fare\n",
              "count   891.000000  891.000000  891.000000  ...  891.000000  891.000000  891.000000\n",
              "mean    446.000000    0.383838    2.308642  ...    0.523008    0.381594   32.204208\n",
              "std     257.353842    0.486592    0.836071  ...    1.102743    0.806057   49.693429\n",
              "min       1.000000    0.000000    1.000000  ...    0.000000    0.000000    0.000000\n",
              "25%     223.500000    0.000000    2.000000  ...    0.000000    0.000000    7.910400\n",
              "50%     446.000000    0.000000    3.000000  ...    0.000000    0.000000   14.454200\n",
              "75%     668.500000    1.000000    3.000000  ...    1.000000    0.000000   31.000000\n",
              "max     891.000000    1.000000    3.000000  ...    8.000000    6.000000  512.329200\n",
              "\n",
              "[8 rows x 7 columns]"
            ]
          },
          "metadata": {
            "tags": []
          },
          "execution_count": 104
        }
      ]
    },
    {
      "cell_type": "code",
      "metadata": {
        "colab": {
          "base_uri": "https://localhost:8080/"
        },
        "id": "lYBtFP-MZ9iy",
        "outputId": "f5377bb9-294d-42e7-e08d-116f4a4c8452"
      },
      "source": [
        "titanic_data.nunique()"
      ],
      "execution_count": 105,
      "outputs": [
        {
          "output_type": "execute_result",
          "data": {
            "text/plain": [
              "PassengerId    891\n",
              "Survived         2\n",
              "Pclass           3\n",
              "Name           891\n",
              "Sex              2\n",
              "Age             88\n",
              "SibSp            7\n",
              "Parch            7\n",
              "Ticket         681\n",
              "Fare           248\n",
              "Cabin          147\n",
              "Embarked         3\n",
              "dtype: int64"
            ]
          },
          "metadata": {
            "tags": []
          },
          "execution_count": 105
        }
      ]
    },
    {
      "cell_type": "code",
      "metadata": {
        "colab": {
          "base_uri": "https://localhost:8080/"
        },
        "id": "bdwhRoFDaeAY",
        "outputId": "76420bd8-0cec-4308-f39b-4464d1da5b62"
      },
      "source": [
        "titanic_data['Sex'].value_counts()"
      ],
      "execution_count": 106,
      "outputs": [
        {
          "output_type": "execute_result",
          "data": {
            "text/plain": [
              "male      577\n",
              "female    314\n",
              "Name: Sex, dtype: int64"
            ]
          },
          "metadata": {
            "tags": []
          },
          "execution_count": 106
        }
      ]
    },
    {
      "cell_type": "code",
      "metadata": {
        "id": "z3tyVQu5anXT",
        "colab": {
          "base_uri": "https://localhost:8080/"
        },
        "outputId": "65a17b75-f863-4d21-b356-a223475fcdc8"
      },
      "source": [
        "titanic_data.columns"
      ],
      "execution_count": 107,
      "outputs": [
        {
          "output_type": "execute_result",
          "data": {
            "text/plain": [
              "Index(['PassengerId', 'Survived', 'Pclass', 'Name', 'Sex', 'Age', 'SibSp',\n",
              "       'Parch', 'Ticket', 'Fare', 'Cabin', 'Embarked'],\n",
              "      dtype='object')"
            ]
          },
          "metadata": {
            "tags": []
          },
          "execution_count": 107
        }
      ]
    },
    {
      "cell_type": "code",
      "metadata": {
        "colab": {
          "base_uri": "https://localhost:8080/",
          "height": 1000
        },
        "id": "ubnTsAWKe-C_",
        "outputId": "a56b5c8e-cd3b-4205-ae7c-fbf788e42911"
      },
      "source": [
        "titanic_data.hist(bins=20,figsize=(18, 16))"
      ],
      "execution_count": 108,
      "outputs": [
        {
          "output_type": "execute_result",
          "data": {
            "text/plain": [
              "array([[<matplotlib.axes._subplots.AxesSubplot object at 0x7f8f6fe81990>,\n",
              "        <matplotlib.axes._subplots.AxesSubplot object at 0x7f8f6fe8f950>,\n",
              "        <matplotlib.axes._subplots.AxesSubplot object at 0x7f8f6fe3d610>],\n",
              "       [<matplotlib.axes._subplots.AxesSubplot object at 0x7f8f6fe6ec90>,\n",
              "        <matplotlib.axes._subplots.AxesSubplot object at 0x7f8f6fe2a350>,\n",
              "        <matplotlib.axes._subplots.AxesSubplot object at 0x7f8f6fddc9d0>],\n",
              "       [<matplotlib.axes._subplots.AxesSubplot object at 0x7f8f6fd99090>,\n",
              "        <matplotlib.axes._subplots.AxesSubplot object at 0x7f8f6fd4f710>,\n",
              "        <matplotlib.axes._subplots.AxesSubplot object at 0x7f8f6fd589d0>]],\n",
              "      dtype=object)"
            ]
          },
          "metadata": {
            "tags": []
          },
          "execution_count": 108
        },
        {
          "output_type": "display_data",
          "data": {
            "image/png": "[encoded data removed]",
            "text/plain": [
              "<Figure size 1296x1152 with 9 Axes>"
            ]
          },
          "metadata": {
            "tags": [],
            "needs_background": "light"
          }
        }
      ]
    },
    {
      "cell_type": "markdown",
      "metadata": {
        "id": "oQVhKaVPgXC1"
      },
      "source": [
        "# Conclusion -1\n",
        "The mean of the Age of the passengers is found to be 29.7 years with quite large standard deviation of 14.5264. Age distribution is centered around 20-30 years ranging to 80 with quite large number of children aged 0-5. The minimum age is 0.42 years and the maximum age is 80 years. The median value is 28 years."
      ]
    },
    {
      "cell_type": "markdown",
      "metadata": {
        "id": "W6jpfZTZjOX8"
      },
      "source": [
        "#DATA PREPROCESSING."
      ]
    },
    {
      "cell_type": "code",
      "metadata": {
        "id": "WVYB1-o9sgkG",
        "colab": {
          "base_uri": "https://localhost:8080/"
        },
        "outputId": "47429ec0-7b30-46a6-e5f9-44039a3c7132"
      },
      "source": [
        "titanic_data.isnull().sum()"
      ],
      "execution_count": 110,
      "outputs": [
        {
          "output_type": "execute_result",
          "data": {
            "text/plain": [
              "PassengerId      0\n",
              "Survived         0\n",
              "Pclass           0\n",
              "Name             0\n",
              "Sex              0\n",
              "Age            177\n",
              "SibSp            0\n",
              "Parch            0\n",
              "Ticket           0\n",
              "Fare             0\n",
              "Cabin          687\n",
              "Embarked         2\n",
              "dtype: int64"
            ]
          },
          "metadata": {
            "tags": []
          },
          "execution_count": 110
        }
      ]
    },
    {
      "cell_type": "code",
      "metadata": {
        "id": "GO_K-56zhF-S"
      },
      "source": [
        "titanic_data.Embarked = titanic_data.Embarked.fillna(titanic_data['Embarked'].mode()[0])"
      ],
      "execution_count": 112,
      "outputs": []
    },
    {
      "cell_type": "code",
      "metadata": {
        "id": "F6ZzJ-ChhRs2"
      },
      "source": [
        "median_age = titanic_data.Age.median()                                              \n",
        "titanic_data.Age.fillna(median_age, inplace = True)"
      ],
      "execution_count": 113,
      "outputs": []
    },
    {
      "cell_type": "code",
      "metadata": {
        "id": "_P7N4Em_hjvJ"
      },
      "source": [
        "titanic_data.drop('Cabin', axis = 1,inplace = True)"
      ],
      "execution_count": 114,
      "outputs": []
    },
    {
      "cell_type": "code",
      "metadata": {
        "id": "ApHsne7JiC-n"
      },
      "source": [
        "titanic_data['FamilySize'] = titanic_data['SibSp'] + titanic_data['Parch']+1"
      ],
      "execution_count": 117,
      "outputs": []
    },
    {
      "cell_type": "code",
      "metadata": {
        "id": "XAWSA1bRiSMJ"
      },
      "source": [
        "titanic_data['People_Class'] = titanic_data.apply(lambda x: 'child' if x['Age'] < 15 else x['Sex'],axis=1)"
      ],
      "execution_count": 118,
      "outputs": []
    },
    {
      "cell_type": "code",
      "metadata": {
        "colab": {
          "base_uri": "https://localhost:8080/",
          "height": 204
        },
        "id": "vmzFrgxjilVV",
        "outputId": "92d4727e-70f7-49e9-c535-3f33ab8e8d37"
      },
      "source": [
        "titanic_data[titanic_data.Age<15].head()"
      ],
      "execution_count": 119,
      "outputs": [
        {
          "output_type": "execute_result",
          "data": {
            "text/html": [
              "<div>\n",
              "<style scoped>\n",
              "    .dataframe tbody tr th:only-of-type {\n",
              "        vertical-align: middle;\n",
              "    }\n",
              "\n",
              "    .dataframe tbody tr th {\n",
              "        vertical-align: top;\n",
              "    }\n",
              "\n",
              "    .dataframe thead th {\n",
              "        text-align: right;\n",
              "    }\n",
              "</style>\n",
              "<table border=\"1\" class=\"dataframe\">\n",
              "  <thead>\n",
              "    <tr style=\"text-align: right;\">\n",
              "      <th></th>\n",
              "      <th>Survived</th>\n",
              "      <th>Pclass</th>\n",
              "      <th>Sex</th>\n",
              "      <th>Age</th>\n",
              "      <th>SibSp</th>\n",
              "      <th>Parch</th>\n",
              "      <th>Fare</th>\n",
              "      <th>Embarked</th>\n",
              "      <th>FamilySize</th>\n",
              "      <th>People_Class</th>\n",
              "    </tr>\n",
              "  </thead>\n",
              "  <tbody>\n",
              "    <tr>\n",
              "      <th>7</th>\n",
              "      <td>0</td>\n",
              "      <td>3</td>\n",
              "      <td>male</td>\n",
              "      <td>2.0</td>\n",
              "      <td>3</td>\n",
              "      <td>1</td>\n",
              "      <td>21.0750</td>\n",
              "      <td>S</td>\n",
              "      <td>5</td>\n",
              "      <td>child</td>\n",
              "    </tr>\n",
              "    <tr>\n",
              "      <th>9</th>\n",
              "      <td>1</td>\n",
              "      <td>2</td>\n",
              "      <td>female</td>\n",
              "      <td>14.0</td>\n",
              "      <td>1</td>\n",
              "      <td>0</td>\n",
              "      <td>30.0708</td>\n",
              "      <td>C</td>\n",
              "      <td>2</td>\n",
              "      <td>child</td>\n",
              "    </tr>\n",
              "    <tr>\n",
              "      <th>10</th>\n",
              "      <td>1</td>\n",
              "      <td>3</td>\n",
              "      <td>female</td>\n",
              "      <td>4.0</td>\n",
              "      <td>1</td>\n",
              "      <td>1</td>\n",
              "      <td>16.7000</td>\n",
              "      <td>S</td>\n",
              "      <td>3</td>\n",
              "      <td>child</td>\n",
              "    </tr>\n",
              "    <tr>\n",
              "      <th>14</th>\n",
              "      <td>0</td>\n",
              "      <td>3</td>\n",
              "      <td>female</td>\n",
              "      <td>14.0</td>\n",
              "      <td>0</td>\n",
              "      <td>0</td>\n",
              "      <td>7.8542</td>\n",
              "      <td>S</td>\n",
              "      <td>1</td>\n",
              "      <td>child</td>\n",
              "    </tr>\n",
              "    <tr>\n",
              "      <th>16</th>\n",
              "      <td>0</td>\n",
              "      <td>3</td>\n",
              "      <td>male</td>\n",
              "      <td>2.0</td>\n",
              "      <td>4</td>\n",
              "      <td>1</td>\n",
              "      <td>29.1250</td>\n",
              "      <td>Q</td>\n",
              "      <td>6</td>\n",
              "      <td>child</td>\n",
              "    </tr>\n",
              "  </tbody>\n",
              "</table>\n",
              "</div>"
            ],
            "text/plain": [
              "    Survived  Pclass     Sex   Age  ...     Fare  Embarked  FamilySize People_Class\n",
              "7          0       3    male   2.0  ...  21.0750         S           5        child\n",
              "9          1       2  female  14.0  ...  30.0708         C           2        child\n",
              "10         1       3  female   4.0  ...  16.7000         S           3        child\n",
              "14         0       3  female  14.0  ...   7.8542         S           1        child\n",
              "16         0       3    male   2.0  ...  29.1250         Q           6        child\n",
              "\n",
              "[5 rows x 10 columns]"
            ]
          },
          "metadata": {
            "tags": []
          },
          "execution_count": 119
        }
      ]
    },
    {
      "cell_type": "code",
      "metadata": {
        "colab": {
          "base_uri": "https://localhost:8080/",
          "height": 204
        },
        "id": "7q84OY_LivMZ",
        "outputId": "4ef3092c-f0ad-4ea6-fef3-5cbe4604ac13"
      },
      "source": [
        "titanic_data[titanic_data.Age>15].head()"
      ],
      "execution_count": 120,
      "outputs": [
        {
          "output_type": "execute_result",
          "data": {
            "text/html": [
              "<div>\n",
              "<style scoped>\n",
              "    .dataframe tbody tr th:only-of-type {\n",
              "        vertical-align: middle;\n",
              "    }\n",
              "\n",
              "    .dataframe tbody tr th {\n",
              "        vertical-align: top;\n",
              "    }\n",
              "\n",
              "    .dataframe thead th {\n",
              "        text-align: right;\n",
              "    }\n",
              "</style>\n",
              "<table border=\"1\" class=\"dataframe\">\n",
              "  <thead>\n",
              "    <tr style=\"text-align: right;\">\n",
              "      <th></th>\n",
              "      <th>Survived</th>\n",
              "      <th>Pclass</th>\n",
              "      <th>Sex</th>\n",
              "      <th>Age</th>\n",
              "      <th>SibSp</th>\n",
              "      <th>Parch</th>\n",
              "      <th>Fare</th>\n",
              "      <th>Embarked</th>\n",
              "      <th>FamilySize</th>\n",
              "      <th>People_Class</th>\n",
              "    </tr>\n",
              "  </thead>\n",
              "  <tbody>\n",
              "    <tr>\n",
              "      <th>0</th>\n",
              "      <td>0</td>\n",
              "      <td>3</td>\n",
              "      <td>male</td>\n",
              "      <td>22.0</td>\n",
              "      <td>1</td>\n",
              "      <td>0</td>\n",
              "      <td>7.2500</td>\n",
              "      <td>S</td>\n",
              "      <td>2</td>\n",
              "      <td>male</td>\n",
              "    </tr>\n",
              "    <tr>\n",
              "      <th>1</th>\n",
              "      <td>1</td>\n",
              "      <td>1</td>\n",
              "      <td>female</td>\n",
              "      <td>38.0</td>\n",
              "      <td>1</td>\n",
              "      <td>0</td>\n",
              "      <td>71.2833</td>\n",
              "      <td>C</td>\n",
              "      <td>2</td>\n",
              "      <td>female</td>\n",
              "    </tr>\n",
              "    <tr>\n",
              "      <th>2</th>\n",
              "      <td>1</td>\n",
              "      <td>3</td>\n",
              "      <td>female</td>\n",
              "      <td>26.0</td>\n",
              "      <td>0</td>\n",
              "      <td>0</td>\n",
              "      <td>7.9250</td>\n",
              "      <td>S</td>\n",
              "      <td>1</td>\n",
              "      <td>female</td>\n",
              "    </tr>\n",
              "    <tr>\n",
              "      <th>3</th>\n",
              "      <td>1</td>\n",
              "      <td>1</td>\n",
              "      <td>female</td>\n",
              "      <td>35.0</td>\n",
              "      <td>1</td>\n",
              "      <td>0</td>\n",
              "      <td>53.1000</td>\n",
              "      <td>S</td>\n",
              "      <td>2</td>\n",
              "      <td>female</td>\n",
              "    </tr>\n",
              "    <tr>\n",
              "      <th>4</th>\n",
              "      <td>0</td>\n",
              "      <td>3</td>\n",
              "      <td>male</td>\n",
              "      <td>35.0</td>\n",
              "      <td>0</td>\n",
              "      <td>0</td>\n",
              "      <td>8.0500</td>\n",
              "      <td>S</td>\n",
              "      <td>1</td>\n",
              "      <td>male</td>\n",
              "    </tr>\n",
              "  </tbody>\n",
              "</table>\n",
              "</div>"
            ],
            "text/plain": [
              "   Survived  Pclass     Sex   Age  ...     Fare  Embarked  FamilySize People_Class\n",
              "0         0       3    male  22.0  ...   7.2500         S           2         male\n",
              "1         1       1  female  38.0  ...  71.2833         C           2       female\n",
              "2         1       3  female  26.0  ...   7.9250         S           1       female\n",
              "3         1       1  female  35.0  ...  53.1000         S           2       female\n",
              "4         0       3    male  35.0  ...   8.0500         S           1         male\n",
              "\n",
              "[5 rows x 10 columns]"
            ]
          },
          "metadata": {
            "tags": []
          },
          "execution_count": 120
        }
      ]
    },
    {
      "cell_type": "code",
      "metadata": {
        "colab": {
          "base_uri": "https://localhost:8080/",
          "height": 204
        },
        "id": "BDId59fRi1wj",
        "outputId": "b7934d92-05c2-4122-fb7c-0ad9fa22f88b"
      },
      "source": [
        "titanic_data['People_Class']=titanic_data['People_Class'].map({'male':'Man','female':'Woman','child':'Children'})\n",
        "titanic_data.head()"
      ],
      "execution_count": 121,
      "outputs": [
        {
          "output_type": "execute_result",
          "data": {
            "text/html": [
              "<div>\n",
              "<style scoped>\n",
              "    .dataframe tbody tr th:only-of-type {\n",
              "        vertical-align: middle;\n",
              "    }\n",
              "\n",
              "    .dataframe tbody tr th {\n",
              "        vertical-align: top;\n",
              "    }\n",
              "\n",
              "    .dataframe thead th {\n",
              "        text-align: right;\n",
              "    }\n",
              "</style>\n",
              "<table border=\"1\" class=\"dataframe\">\n",
              "  <thead>\n",
              "    <tr style=\"text-align: right;\">\n",
              "      <th></th>\n",
              "      <th>Survived</th>\n",
              "      <th>Pclass</th>\n",
              "      <th>Sex</th>\n",
              "      <th>Age</th>\n",
              "      <th>SibSp</th>\n",
              "      <th>Parch</th>\n",
              "      <th>Fare</th>\n",
              "      <th>Embarked</th>\n",
              "      <th>FamilySize</th>\n",
              "      <th>People_Class</th>\n",
              "    </tr>\n",
              "  </thead>\n",
              "  <tbody>\n",
              "    <tr>\n",
              "      <th>0</th>\n",
              "      <td>0</td>\n",
              "      <td>3</td>\n",
              "      <td>male</td>\n",
              "      <td>22.0</td>\n",
              "      <td>1</td>\n",
              "      <td>0</td>\n",
              "      <td>7.2500</td>\n",
              "      <td>S</td>\n",
              "      <td>2</td>\n",
              "      <td>Man</td>\n",
              "    </tr>\n",
              "    <tr>\n",
              "      <th>1</th>\n",
              "      <td>1</td>\n",
              "      <td>1</td>\n",
              "      <td>female</td>\n",
              "      <td>38.0</td>\n",
              "      <td>1</td>\n",
              "      <td>0</td>\n",
              "      <td>71.2833</td>\n",
              "      <td>C</td>\n",
              "      <td>2</td>\n",
              "      <td>Woman</td>\n",
              "    </tr>\n",
              "    <tr>\n",
              "      <th>2</th>\n",
              "      <td>1</td>\n",
              "      <td>3</td>\n",
              "      <td>female</td>\n",
              "      <td>26.0</td>\n",
              "      <td>0</td>\n",
              "      <td>0</td>\n",
              "      <td>7.9250</td>\n",
              "      <td>S</td>\n",
              "      <td>1</td>\n",
              "      <td>Woman</td>\n",
              "    </tr>\n",
              "    <tr>\n",
              "      <th>3</th>\n",
              "      <td>1</td>\n",
              "      <td>1</td>\n",
              "      <td>female</td>\n",
              "      <td>35.0</td>\n",
              "      <td>1</td>\n",
              "      <td>0</td>\n",
              "      <td>53.1000</td>\n",
              "      <td>S</td>\n",
              "      <td>2</td>\n",
              "      <td>Woman</td>\n",
              "    </tr>\n",
              "    <tr>\n",
              "      <th>4</th>\n",
              "      <td>0</td>\n",
              "      <td>3</td>\n",
              "      <td>male</td>\n",
              "      <td>35.0</td>\n",
              "      <td>0</td>\n",
              "      <td>0</td>\n",
              "      <td>8.0500</td>\n",
              "      <td>S</td>\n",
              "      <td>1</td>\n",
              "      <td>Man</td>\n",
              "    </tr>\n",
              "  </tbody>\n",
              "</table>\n",
              "</div>"
            ],
            "text/plain": [
              "   Survived  Pclass     Sex   Age  ...     Fare  Embarked  FamilySize People_Class\n",
              "0         0       3    male  22.0  ...   7.2500         S           2          Man\n",
              "1         1       1  female  38.0  ...  71.2833         C           2        Woman\n",
              "2         1       3  female  26.0  ...   7.9250         S           1        Woman\n",
              "3         1       1  female  35.0  ...  53.1000         S           2        Woman\n",
              "4         0       3    male  35.0  ...   8.0500         S           1          Man\n",
              "\n",
              "[5 rows x 10 columns]"
            ]
          },
          "metadata": {
            "tags": []
          },
          "execution_count": 121
        }
      ]
    },
    {
      "cell_type": "code",
      "metadata": {
        "colab": {
          "base_uri": "https://localhost:8080/",
          "height": 204
        },
        "id": "-48U3Yw5jC-a",
        "outputId": "af31f42e-a3bd-4c90-c139-728b3e10e2b8"
      },
      "source": [
        "titanic_data[titanic_data.Age<15].head() \n"
      ],
      "execution_count": 122,
      "outputs": [
        {
          "output_type": "execute_result",
          "data": {
            "text/html": [
              "<div>\n",
              "<style scoped>\n",
              "    .dataframe tbody tr th:only-of-type {\n",
              "        vertical-align: middle;\n",
              "    }\n",
              "\n",
              "    .dataframe tbody tr th {\n",
              "        vertical-align: top;\n",
              "    }\n",
              "\n",
              "    .dataframe thead th {\n",
              "        text-align: right;\n",
              "    }\n",
              "</style>\n",
              "<table border=\"1\" class=\"dataframe\">\n",
              "  <thead>\n",
              "    <tr style=\"text-align: right;\">\n",
              "      <th></th>\n",
              "      <th>Survived</th>\n",
              "      <th>Pclass</th>\n",
              "      <th>Sex</th>\n",
              "      <th>Age</th>\n",
              "      <th>SibSp</th>\n",
              "      <th>Parch</th>\n",
              "      <th>Fare</th>\n",
              "      <th>Embarked</th>\n",
              "      <th>FamilySize</th>\n",
              "      <th>People_Class</th>\n",
              "    </tr>\n",
              "  </thead>\n",
              "  <tbody>\n",
              "    <tr>\n",
              "      <th>7</th>\n",
              "      <td>0</td>\n",
              "      <td>3</td>\n",
              "      <td>male</td>\n",
              "      <td>2.0</td>\n",
              "      <td>3</td>\n",
              "      <td>1</td>\n",
              "      <td>21.0750</td>\n",
              "      <td>S</td>\n",
              "      <td>5</td>\n",
              "      <td>Children</td>\n",
              "    </tr>\n",
              "    <tr>\n",
              "      <th>9</th>\n",
              "      <td>1</td>\n",
              "      <td>2</td>\n",
              "      <td>female</td>\n",
              "      <td>14.0</td>\n",
              "      <td>1</td>\n",
              "      <td>0</td>\n",
              "      <td>30.0708</td>\n",
              "      <td>C</td>\n",
              "      <td>2</td>\n",
              "      <td>Children</td>\n",
              "    </tr>\n",
              "    <tr>\n",
              "      <th>10</th>\n",
              "      <td>1</td>\n",
              "      <td>3</td>\n",
              "      <td>female</td>\n",
              "      <td>4.0</td>\n",
              "      <td>1</td>\n",
              "      <td>1</td>\n",
              "      <td>16.7000</td>\n",
              "      <td>S</td>\n",
              "      <td>3</td>\n",
              "      <td>Children</td>\n",
              "    </tr>\n",
              "    <tr>\n",
              "      <th>14</th>\n",
              "      <td>0</td>\n",
              "      <td>3</td>\n",
              "      <td>female</td>\n",
              "      <td>14.0</td>\n",
              "      <td>0</td>\n",
              "      <td>0</td>\n",
              "      <td>7.8542</td>\n",
              "      <td>S</td>\n",
              "      <td>1</td>\n",
              "      <td>Children</td>\n",
              "    </tr>\n",
              "    <tr>\n",
              "      <th>16</th>\n",
              "      <td>0</td>\n",
              "      <td>3</td>\n",
              "      <td>male</td>\n",
              "      <td>2.0</td>\n",
              "      <td>4</td>\n",
              "      <td>1</td>\n",
              "      <td>29.1250</td>\n",
              "      <td>Q</td>\n",
              "      <td>6</td>\n",
              "      <td>Children</td>\n",
              "    </tr>\n",
              "  </tbody>\n",
              "</table>\n",
              "</div>"
            ],
            "text/plain": [
              "    Survived  Pclass     Sex   Age  ...     Fare  Embarked  FamilySize People_Class\n",
              "7          0       3    male   2.0  ...  21.0750         S           5     Children\n",
              "9          1       2  female  14.0  ...  30.0708         C           2     Children\n",
              "10         1       3  female   4.0  ...  16.7000         S           3     Children\n",
              "14         0       3  female  14.0  ...   7.8542         S           1     Children\n",
              "16         0       3    male   2.0  ...  29.1250         Q           6     Children\n",
              "\n",
              "[5 rows x 10 columns]"
            ]
          },
          "metadata": {
            "tags": []
          },
          "execution_count": 122
        }
      ]
    },
    {
      "cell_type": "markdown",
      "metadata": {
        "id": "sK1IERLBjiep"
      },
      "source": [
        "#Exploratory Data Analysis"
      ]
    },
    {
      "cell_type": "code",
      "metadata": {
        "colab": {
          "base_uri": "https://localhost:8080/"
        },
        "id": "x6JfqADyjIMB",
        "outputId": "f5ee794b-ba6c-4bf7-80ab-4be773f18383"
      },
      "source": [
        "titanic_age_groups = pd.cut(titanic_data[\"Age\"], bins=[0, 15, 25, 40, 60, 80]).value_counts().sort_index()\n",
        "titanic_age_groups"
      ],
      "execution_count": 123,
      "outputs": [
        {
          "output_type": "execute_result",
          "data": {
            "text/plain": [
              "(0, 15]      83\n",
              "(15, 25]    218\n",
              "(25, 40]    440\n",
              "(40, 60]    128\n",
              "(60, 80]     22\n",
              "Name: Age, dtype: int64"
            ]
          },
          "metadata": {
            "tags": []
          },
          "execution_count": 123
        }
      ]
    },
    {
      "cell_type": "markdown",
      "metadata": {
        "id": "6oF7Wtdij2FU"
      },
      "source": [
        "## Conclusion- 2 \n",
        "83 passengers were children in age 0-15. A little over 200 of passengers were both between 15-25 and 263 of them were 25-40 years old. Almost 128 of all passengers were 40-60 years old. Only 22 of all passengers were above 60 years old. That tells us that Titanic passengers population was quite young."
      ]
    },
    {
      "cell_type": "code",
      "metadata": {
        "id": "Q4YiHzDtkGby",
        "colab": {
          "base_uri": "https://localhost:8080/"
        },
        "outputId": "2e56fa1c-c636-4b20-c574-2e025b14b622"
      },
      "source": [
        "titanic_sibsp = titanic_data[\"SibSp\"].value_counts()\n",
        "titanic_sibsp"
      ],
      "execution_count": 125,
      "outputs": [
        {
          "output_type": "execute_result",
          "data": {
            "text/plain": [
              "0    608\n",
              "1    209\n",
              "2     28\n",
              "4     18\n",
              "3     16\n",
              "8      7\n",
              "5      5\n",
              "Name: SibSp, dtype: int64"
            ]
          },
          "metadata": {
            "tags": []
          },
          "execution_count": 125
        }
      ]
    },
    {
      "cell_type": "markdown",
      "metadata": {
        "id": "QtpEucgQpOGk"
      },
      "source": [
        "## Conclusion- 3\n",
        "\n",
        "- 608 passengers travelled without any siblings or spouse. \n",
        "\n",
        "- 209 passengers travelled with one child or spouse. \n",
        "\n",
        "- Only 74 passengers traveled with more than one sibling or spouse."
      ]
    },
    {
      "cell_type": "code",
      "metadata": {
        "colab": {
          "base_uri": "https://localhost:8080/"
        },
        "id": "mXclqtuOpFFl",
        "outputId": "df5172ff-4f94-4684-fb43-4a3a27bc7919"
      },
      "source": [
        "titanic_parch = titanic_data[\"Parch\"].value_counts()\n",
        "titanic_parch"
      ],
      "execution_count": 126,
      "outputs": [
        {
          "output_type": "execute_result",
          "data": {
            "text/plain": [
              "0    678\n",
              "1    118\n",
              "2     80\n",
              "5      5\n",
              "3      5\n",
              "4      4\n",
              "6      1\n",
              "Name: Parch, dtype: int64"
            ]
          },
          "metadata": {
            "tags": []
          },
          "execution_count": 126
        }
      ]
    },
    {
      "cell_type": "markdown",
      "metadata": {
        "id": "6OqMTZ2Ap8kf"
      },
      "source": [
        "# What is the survival ratio of Titanic passengers?"
      ]
    },
    {
      "cell_type": "code",
      "metadata": {
        "colab": {
          "base_uri": "https://localhost:8080/"
        },
        "id": "t1uI0dZspg3z",
        "outputId": "7cd4e60e-3234-4dc3-f06a-0bc6729bfa54"
      },
      "source": [
        "titanic_survived = titanic_data[\"Survived\"].value_counts(sort=False)\n",
        "titanic_survived.index = [\"Not Survived\", \"Survived\"]\n",
        "titanic_survived"
      ],
      "execution_count": 127,
      "outputs": [
        {
          "output_type": "execute_result",
          "data": {
            "text/plain": [
              "Not Survived    549\n",
              "Survived        342\n",
              "Name: Survived, dtype: int64"
            ]
          },
          "metadata": {
            "tags": []
          },
          "execution_count": 127
        }
      ]
    },
    {
      "cell_type": "code",
      "metadata": {
        "id": "jsjA6yOAqMoN"
      },
      "source": [
        "def get_survival_ratio(passengers_df):\n",
        "    return passengers_df[\"Survived\"].sum()/passengers_df[\"Survived\"].count()"
      ],
      "execution_count": 128,
      "outputs": []
    },
    {
      "cell_type": "code",
      "metadata": {
        "colab": {
          "base_uri": "https://localhost:8080/"
        },
        "id": "_IK8oUBzqSSb",
        "outputId": "b84f4330-a8a3-42ad-e604-8999fd1187fa"
      },
      "source": [
        "survival_ratio = get_survival_ratio(titanic_data)\n",
        "survival_ratio"
      ],
      "execution_count": 129,
      "outputs": [
        {
          "output_type": "execute_result",
          "data": {
            "text/plain": [
              "0.3838383838383838"
            ]
          },
          "metadata": {
            "tags": []
          },
          "execution_count": 129
        }
      ]
    },
    {
      "cell_type": "markdown",
      "metadata": {
        "id": "sZfiez-Bqge2"
      },
      "source": [
        "# Conclusion- 4\n",
        "Out of 891 passengers only 342 survived and 549 died. The Titanic survival ratio is approximately 0.38, meaning that only 38% of all passengers survived the disaster. That is really small percentage."
      ]
    },
    {
      "cell_type": "markdown",
      "metadata": {
        "id": "B9QQ5Rz3q049"
      },
      "source": [
        "## Who is more likely to survive Men, Women or Children?"
      ]
    },
    {
      "cell_type": "code",
      "metadata": {
        "colab": {
          "base_uri": "https://localhost:8080/",
          "height": 259
        },
        "id": "PaGexw36qXVl",
        "outputId": "aca52d1f-249b-4c60-dc2b-11c91bda6ea6"
      },
      "source": [
        "as_fig = sns.FacetGrid(titanic_data,hue='People_Class',aspect=5)\n",
        "\n",
        "as_fig.map(sns.kdeplot,'Age',shade=True)\n",
        "\n",
        "oldest = titanic_data['Age'].max()\n",
        "\n",
        "as_fig.set(xlim=(0,oldest))\n",
        "\n",
        "as_fig.add_legend()\n",
        "plt.title('Age distribution using FacetGrid')"
      ],
      "execution_count": 130,
      "outputs": [
        {
          "output_type": "execute_result",
          "data": {
            "text/plain": [
              "Text(0.5, 1.0, 'Age distribution using FacetGrid')"
            ]
          },
          "metadata": {
            "tags": []
          },
          "execution_count": 130
        },
        {
          "output_type": "display_data",
          "data": {
            "image/png": "[encoded data removed]",
            "text/plain": [
              "<Figure size 1157.75x216 with 1 Axes>"
            ]
          },
          "metadata": {
            "tags": [],
            "needs_background": "light"
          }
        }
      ]
    },
    {
      "cell_type": "markdown",
      "metadata": {
        "id": "5qGXd1LXrXjg"
      },
      "source": [
        "# Conclusion- 5\n",
        "- In titanic RMS Children of Age 3-8 yrs are in majority.\n",
        "\n",
        "- Maximum Men and Women are of Age 25-35 yrs."
      ]
    },
    {
      "cell_type": "code",
      "metadata": {
        "colab": {
          "base_uri": "https://localhost:8080/",
          "height": 520
        },
        "id": "jU97B2FzrQWi",
        "outputId": "46f06862-98b7-4fa0-af91-db2b85153292"
      },
      "source": [
        "sns.factorplot('People_Class', hue='Survived', kind='count', data=titanic_data);\n",
        "plt.title('Factor plot for man woman and children')"
      ],
      "execution_count": 131,
      "outputs": [
        {
          "output_type": "stream",
          "text": [
            "/usr/local/lib/python3.7/dist-packages/seaborn/categorical.py:3714: UserWarning: The `factorplot` function has been renamed to `catplot`. The original name will be removed in a future release. Please update your code. Note that the default `kind` in `factorplot` (`'point'`) has changed `'strip'` in `catplot`.\n",
            "  warnings.warn(msg)\n",
            "/usr/local/lib/python3.7/dist-packages/seaborn/_decorators.py:43: FutureWarning: Pass the following variable as a keyword arg: x. From version 0.12, the only valid positional argument will be `data`, and passing other arguments without an explicit keyword will result in an error or misinterpretation.\n",
            "  FutureWarning\n"
          ],
          "name": "stderr"
        },
        {
          "output_type": "execute_result",
          "data": {
            "text/plain": [
              "Text(0.5, 1.0, 'Factor plot for man woman and children')"
            ]
          },
          "metadata": {
            "tags": []
          },
          "execution_count": 131
        },
        {
          "output_type": "display_data",
          "data": {
            "image/png": "[encoded data removed]",
            "text/plain": [
              "<Figure size 411.875x360 with 1 Axes>"
            ]
          },
          "metadata": {
            "tags": [],
            "needs_background": "light"
          }
        }
      ]
    },
    {
      "cell_type": "markdown",
      "metadata": {
        "id": "uo6nNcfWr2r0"
      },
      "source": [
        "# Conclusion- 6\n",
        "- Majority of males died.\n",
        "- Females have high probability to survive."
      ]
    },
    {
      "cell_type": "code",
      "metadata": {
        "colab": {
          "base_uri": "https://localhost:8080/"
        },
        "id": "l-EHmI5YrzPk",
        "outputId": "ad436323-71e9-4c83-b8e9-42b6c8970de3"
      },
      "source": [
        "print(\"% of women survived: \" , titanic_data[titanic_data.People_Class == 'Woman']['Survived'].sum()/titanic_data[titanic_data.People_Class == 'Woman']['Survived'].count())\n",
        "print(\"% of men survived:   \" , titanic_data[titanic_data.People_Class == 'Man']['Survived'].sum()/titanic_data[titanic_data.People_Class == 'Man']['Survived'].count())\n",
        "print(\"% of child survived:   \" , titanic_data[titanic_data.People_Class == 'Children']['Survived'].sum()/titanic_data[titanic_data.People_Class == 'Children']['Survived'].count())"
      ],
      "execution_count": 132,
      "outputs": [
        {
          "output_type": "stream",
          "text": [
            "% of women survived:  0.76\n",
            "% of men survived:    0.16356877323420074\n",
            "% of child survived:    0.5769230769230769\n"
          ],
          "name": "stdout"
        }
      ]
    },
    {
      "cell_type": "code",
      "metadata": {
        "colab": {
          "base_uri": "https://localhost:8080/",
          "height": 402
        },
        "id": "Op9eVPb5sTUu",
        "outputId": "5156481d-54e6-4289-a8b5-99b013d2ae42"
      },
      "source": [
        "f,ax = plt.subplots(1,3,figsize=(20,7))\n",
        "titanic_data['Survived'][titanic_data['People_Class'] == 'Man'].value_counts().plot.pie(explode=[0,0.2],autopct='%1.1f%%',ax=ax[0],shadow=True)\n",
        "titanic_data['Survived'][titanic_data['People_Class'] == 'Woman'].value_counts().plot.pie(explode=[0,0.2],autopct='%1.1f%%',ax=ax[1],shadow=True)\n",
        "titanic_data['Survived'][titanic_data['People_Class'] == 'Children'].value_counts().plot.pie(explode=[0,0.2],autopct='%1.1f%%',ax=ax[2],shadow=True)\n",
        "ax[0].set_title('Survived (Man)')\n",
        "ax[1].set_title('Survived (Woman)')\n",
        "ax[2].set_title('Survived (Children)')"
      ],
      "execution_count": 133,
      "outputs": [
        {
          "output_type": "execute_result",
          "data": {
            "text/plain": [
              "Text(0.5, 1.0, 'Survived (Children)')"
            ]
          },
          "metadata": {
            "tags": []
          },
          "execution_count": 133
        },
        {
          "output_type": "display_data",
          "data": {
            "image/png": "[encoded data removed]",
            "text/plain": [
              "<Figure size 1440x504 with 3 Axes>"
            ]
          },
          "metadata": {
            "tags": []
          }
        }
      ]
    },
    {
      "cell_type": "markdown",
      "metadata": {
        "id": "K5-vbHhVsi_r"
      },
      "source": [
        "# Conclusion- 7\n",
        "- 76% of woman survived.\n",
        "- 57% of children also survived.\n",
        "- Only 16% of man survived."
      ]
    },
    {
      "cell_type": "code",
      "metadata": {
        "id": "ZD3eqr75sXSH"
      },
      "source": [
        ""
      ],
      "execution_count": null,
      "outputs": []
    }
  ]
}